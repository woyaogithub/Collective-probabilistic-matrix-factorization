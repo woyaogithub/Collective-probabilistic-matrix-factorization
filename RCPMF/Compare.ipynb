{
 "cells": [
  {
   "cell_type": "code",
   "execution_count": 1,
   "metadata": {
    "collapsed": true
   },
   "outputs": [],
   "source": [
    "import pandas as pd\n",
    "import numpy as np\n",
    "import matplotlib.pyplot as plt\n",
    "%matplotlib inline\n",
    "from pylab import *\n",
    "mpl.rcParams['font.sans-serif'] = ['SimHei']"
   ]
  },
  {
   "cell_type": "code",
   "execution_count": 2,
   "metadata": {
    "collapsed": true
   },
   "outputs": [],
   "source": [
    "path=r\"C:\\Users\\admin\\Desktop\\RCPMF\\A.csv\""
   ]
  },
  {
   "cell_type": "code",
   "execution_count": 3,
   "metadata": {
    "collapsed": true
   },
   "outputs": [],
   "source": [
    "df=pd.read_csv(path)"
   ]
  },
  {
   "cell_type": "code",
   "execution_count": 4,
   "metadata": {
    "collapsed": true
   },
   "outputs": [],
   "source": [
    "# (1) 处理日期数据\n",
    "def split_month(x):\n",
    "    return x[5:7]\n",
    "df[\"S\"]=df[\"Q\"].apply(split_month)\n",
    "df=df.drop_duplicates()\n",
    "# (2) 添加季节特征\n",
    "def season(x):\n",
    "    if x==\"01\" or x==\"02\" or x==\"12\":\n",
    "        return \"冬\"\n",
    "    if x==\"03\" or x==\"04\" or x==\"05\":\n",
    "        return \"春\"\n",
    "    if x==\"06\" or x==\"07\" or x==\"08\":\n",
    "        return \"夏\"\n",
    "    if x==\"09\" or x==\"10\" or x==\"11\":\n",
    "        return \"秋\"\n",
    "df[\"Season\"]=df[\"S\"].apply(season)"
   ]
  },
  {
   "cell_type": "code",
   "execution_count": 5,
   "metadata": {
    "collapsed": true
   },
   "outputs": [],
   "source": [
    "X=df[['A', 'B', 'D', 'E', 'F', 'G','H', 'K', 'L', 'M', 'N', 'Q',\"S\",\"Season\"]]\n",
    "y=df[[\"R\"]]"
   ]
  },
  {
   "cell_type": "code",
   "execution_count": 6,
   "metadata": {
    "collapsed": false
   },
   "outputs": [
    {
     "name": "stderr",
     "output_type": "stream",
     "text": [
      "C:\\Anaconda3\\lib\\site-packages\\sklearn\\cross_validation.py:41: DeprecationWarning: This module was deprecated in version 0.18 in favor of the model_selection module into which all the refactored classes and functions are moved. Also note that the interface of the new CV iterators are different from that of this module. This module will be removed in 0.20.\n",
      "  \"This module will be removed in 0.20.\", DeprecationWarning)\n"
     ]
    }
   ],
   "source": [
    "from sklearn.cross_validation import train_test_split\n",
    "X_train,X_test,y_train,y_test=train_test_split(X,y,test_size=0.8,random_state=2)"
   ]
  },
  {
   "cell_type": "markdown",
   "metadata": {},
   "source": [
    "# 1 MV"
   ]
  },
  {
   "cell_type": "code",
   "execution_count": 7,
   "metadata": {
    "collapsed": true
   },
   "outputs": [],
   "source": [
    "# 训练集\n",
    "X_train_Mean=pd.concat([X_train,y_train],axis=1)"
   ]
  },
  {
   "cell_type": "code",
   "execution_count": 8,
   "metadata": {
    "collapsed": true
   },
   "outputs": [],
   "source": [
    "X_train_Mean=X_train_Mean.drop_duplicates()"
   ]
  },
  {
   "cell_type": "code",
   "execution_count": 9,
   "metadata": {
    "collapsed": true
   },
   "outputs": [],
   "source": [
    "X_train_Mean_A=X_train_Mean[X_train_Mean[\"Season\"]==\"春\"]\n",
    "X_train_Mean_B=X_train_Mean[X_train_Mean[\"Season\"]==\"夏\"]\n",
    "X_train_Mean_C=X_train_Mean[X_train_Mean[\"Season\"]==\"秋\"]\n",
    "X_train_Mean_D=X_train_Mean[X_train_Mean[\"Season\"]==\"冬\"]"
   ]
  },
  {
   "cell_type": "code",
   "execution_count": 10,
   "metadata": {
    "collapsed": true
   },
   "outputs": [],
   "source": [
    "X_test_Mean=pd.concat([X_test,y_test],axis=1)\n",
    "X_test_Mean_A=X_test_Mean[X_test_Mean[\"Season\"]==\"春\"]\n",
    "X_test_Mean_B=X_test_Mean[X_test_Mean[\"Season\"]==\"夏\"]\n",
    "X_test_Mean_C=X_test_Mean[X_test_Mean[\"Season\"]==\"秋\"]\n",
    "X_test_Mean_D=X_test_Mean[X_test_Mean[\"Season\"]==\"冬\"]"
   ]
  },
  {
   "cell_type": "code",
   "execution_count": 11,
   "metadata": {
    "collapsed": true
   },
   "outputs": [],
   "source": [
    "# 春季用户列表\n",
    "user_A=X_train_Mean_A[\"A\"].unique()\n",
    "item_A=X_train_Mean_A[\"B\"].unique()\n",
    "# 夏季用户列表\n",
    "user_B=X_train_Mean_B[\"A\"].unique()\n",
    "item_B=X_train_Mean_B[\"B\"].unique()\n",
    "# 秋季用户列表\n",
    "user_C=X_train_Mean_C[\"A\"].unique()\n",
    "item_C=X_train_Mean_C[\"B\"].unique()\n",
    "# 冬季用户列表\n",
    "user_D=X_train_Mean_D[\"A\"].unique()\n",
    "item_D=X_train_Mean_D[\"B\"].unique()"
   ]
  },
  {
   "cell_type": "code",
   "execution_count": 12,
   "metadata": {
    "collapsed": true
   },
   "outputs": [],
   "source": [
    "# 遍历测试集\n",
    "X_test_Mean_A=X_test_Mean_A[[\"A\",\"B\",\"R\"]]\n",
    "X_test_Mean_B=X_test_Mean_B[[\"A\",\"B\",\"R\"]]\n",
    "X_test_Mean_C=X_test_Mean_C[[\"A\",\"B\",\"R\"]]\n",
    "X_test_Mean_D=X_test_Mean_D[[\"A\",\"B\",\"R\"]]"
   ]
  },
  {
   "cell_type": "code",
   "execution_count": 13,
   "metadata": {
    "collapsed": true
   },
   "outputs": [],
   "source": [
    "# 遍历测试集\n",
    "def Mean_Predict(X_test,X_train,users,items):\n",
    "    result_mean=[]\n",
    "    for user,item,rui in X_test.as_matrix():\n",
    "        if user not in users:\n",
    "            continue\n",
    "        if item not in items:\n",
    "            continue\n",
    "        # 判断用户与物品是否存在于训练集中\n",
    "        if len(X_train[(X_train[\"A\"]==user) &(X_train[\"B\"]==item)])<2:\n",
    "            continue\n",
    "        else:\n",
    "            predict=X_train[(X_train[\"A\"]==user) &(X_train[\"B\"]==item)][\"R\"].mean()\n",
    "            result_mean.append([user,item,rui,predict])\n",
    "    return result_mean"
   ]
  },
  {
   "cell_type": "code",
   "execution_count": 14,
   "metadata": {
    "collapsed": true
   },
   "outputs": [],
   "source": [
    "X_test_A=Mean_Predict(X_test_Mean_A,X_train_Mean,user_A,item_A)\n",
    "X_test_B=Mean_Predict(X_test_Mean_B,X_train_Mean,user_B,item_B)\n",
    "X_test_C=Mean_Predict(X_test_Mean_C,X_train_Mean,user_C,item_C)\n",
    "X_test_D=Mean_Predict(X_test_Mean_D,X_train_Mean,user_D,item_D)"
   ]
  },
  {
   "cell_type": "code",
   "execution_count": 15,
   "metadata": {
    "collapsed": true
   },
   "outputs": [],
   "source": [
    "X_test_A=pd.DataFrame(X_test_A)\n",
    "X_test_A=X_test_A.rename(columns={0: \"用户\",1: \"物品\",2: \"真实值\",3: \"平均预测值\"})"
   ]
  },
  {
   "cell_type": "code",
   "execution_count": 16,
   "metadata": {
    "collapsed": true
   },
   "outputs": [],
   "source": [
    "X_test_B=pd.DataFrame(X_test_B)\n",
    "X_test_B=X_test_B.rename(columns={0: \"用户\",1: \"物品\",2: \"真实值\",3: \"平均预测值\"})\n",
    "\n",
    "X_test_C=pd.DataFrame(X_test_C)\n",
    "X_test_C=X_test_C.rename(columns={0: \"用户\",1: \"物品\",2: \"真实值\",3: \"平均预测值\"})\n",
    "\n",
    "X_test_D=pd.DataFrame(X_test_D)\n",
    "X_test_D=X_test_D.rename(columns={0: \"用户\",1: \"物品\",2: \"真实值\",3: \"平均预测值\"})"
   ]
  },
  {
   "cell_type": "code",
   "execution_count": 17,
   "metadata": {
    "collapsed": false
   },
   "outputs": [
    {
     "data": {
      "text/html": [
       "<div>\n",
       "<style scoped>\n",
       "    .dataframe tbody tr th:only-of-type {\n",
       "        vertical-align: middle;\n",
       "    }\n",
       "\n",
       "    .dataframe tbody tr th {\n",
       "        vertical-align: top;\n",
       "    }\n",
       "\n",
       "    .dataframe thead th {\n",
       "        text-align: right;\n",
       "    }\n",
       "</style>\n",
       "<table border=\"1\" class=\"dataframe\">\n",
       "  <thead>\n",
       "    <tr style=\"text-align: right;\">\n",
       "      <th></th>\n",
       "      <th>用户</th>\n",
       "      <th>物品</th>\n",
       "      <th>真实值</th>\n",
       "      <th>平均预测值</th>\n",
       "    </tr>\n",
       "  </thead>\n",
       "  <tbody>\n",
       "    <tr>\n",
       "      <th>0</th>\n",
       "      <td>蜂锦</td>\n",
       "      <td>CX150833J;</td>\n",
       "      <td>17</td>\n",
       "      <td>45.0</td>\n",
       "    </tr>\n",
       "    <tr>\n",
       "      <th>1</th>\n",
       "      <td>环富</td>\n",
       "      <td>KX151140J;</td>\n",
       "      <td>34</td>\n",
       "      <td>35.5</td>\n",
       "    </tr>\n",
       "    <tr>\n",
       "      <th>2</th>\n",
       "      <td>环富</td>\n",
       "      <td>TX160843J;</td>\n",
       "      <td>45</td>\n",
       "      <td>62.0</td>\n",
       "    </tr>\n",
       "  </tbody>\n",
       "</table>\n",
       "</div>"
      ],
      "text/plain": [
       "   用户          物品  真实值  平均预测值\n",
       "0  蜂锦  CX150833J;   17   45.0\n",
       "1  环富  KX151140J;   34   35.5\n",
       "2  环富  TX160843J;   45   62.0"
      ]
     },
     "execution_count": 17,
     "metadata": {},
     "output_type": "execute_result"
    }
   ],
   "source": [
    "X_test_A[:3]"
   ]
  },
  {
   "cell_type": "code",
   "execution_count": 18,
   "metadata": {
    "collapsed": true
   },
   "outputs": [],
   "source": [
    "# rmse\n",
    "def RMSE(deviation):\n",
    "    sum=0.0\n",
    "    for i in deviation:\n",
    "        sum+=i*i\n",
    "    rmse=np.sqrt(sum/len(deviation))\n",
    "    return rmse"
   ]
  },
  {
   "cell_type": "code",
   "execution_count": 19,
   "metadata": {
    "collapsed": true
   },
   "outputs": [],
   "source": [
    "# rmse\n",
    "def RMSM_Mean(r1,r2,r3,r4):\n",
    "    rmse=0.0\n",
    "    rmse=(r1+r2+r3+r4)/4\n",
    "    return rmse"
   ]
  },
  {
   "cell_type": "code",
   "execution_count": 20,
   "metadata": {
    "collapsed": false
   },
   "outputs": [
    {
     "data": {
      "text/plain": [
       "18.141306344493874"
      ]
     },
     "execution_count": 20,
     "metadata": {},
     "output_type": "execute_result"
    }
   ],
   "source": [
    "# 春 LR+UPMF\n",
    "RMSE(X_test_A[\"平均预测值\"]-X_test_A[\"真实值\"])"
   ]
  },
  {
   "cell_type": "code",
   "execution_count": 21,
   "metadata": {
    "collapsed": false
   },
   "outputs": [
    {
     "data": {
      "text/plain": [
       "105.66571250104695"
      ]
     },
     "execution_count": 21,
     "metadata": {},
     "output_type": "execute_result"
    }
   ],
   "source": [
    "RMSE(X_test_B[\"平均预测值\"]-X_test_B[\"真实值\"])"
   ]
  },
  {
   "cell_type": "code",
   "execution_count": 22,
   "metadata": {
    "collapsed": false
   },
   "outputs": [
    {
     "data": {
      "text/plain": [
       "19.876004516893115"
      ]
     },
     "execution_count": 22,
     "metadata": {},
     "output_type": "execute_result"
    }
   ],
   "source": [
    "RMSE(X_test_C[\"平均预测值\"]-X_test_C[\"真实值\"])"
   ]
  },
  {
   "cell_type": "code",
   "execution_count": 23,
   "metadata": {
    "collapsed": false
   },
   "outputs": [
    {
     "data": {
      "text/plain": [
       "37.5665828649366"
      ]
     },
     "execution_count": 23,
     "metadata": {},
     "output_type": "execute_result"
    }
   ],
   "source": [
    "RMSE(X_test_D[\"平均预测值\"]-X_test_D[\"真实值\"])"
   ]
  },
  {
   "cell_type": "code",
   "execution_count": 24,
   "metadata": {
    "collapsed": false
   },
   "outputs": [
    {
     "data": {
      "text/plain": [
       "45.31240155684264"
      ]
     },
     "execution_count": 24,
     "metadata": {},
     "output_type": "execute_result"
    }
   ],
   "source": [
    "RMSM_Mean(RMSE(X_test_A[\"平均预测值\"]-X_test_A[\"真实值\"]),RMSE(X_test_B[\"平均预测值\"]-X_test_B[\"真实值\"]),RMSE(X_test_C[\"平均预测值\"]-X_test_C[\"真实值\"]),RMSE(X_test_D[\"平均预测值\"]-X_test_D[\"真实值\"]))"
   ]
  },
  {
   "cell_type": "markdown",
   "metadata": {},
   "source": [
    "# 2 MA"
   ]
  },
  {
   "cell_type": "code",
   "execution_count": 36,
   "metadata": {
    "collapsed": false
   },
   "outputs": [],
   "source": [
    "X=df[[\"A\",\"B\",\"Q\",\"Season\"]]"
   ]
  },
  {
   "cell_type": "code",
   "execution_count": 37,
   "metadata": {
    "collapsed": true
   },
   "outputs": [],
   "source": [
    "y=df[\"R\"]"
   ]
  },
  {
   "cell_type": "code",
   "execution_count": 38,
   "metadata": {
    "collapsed": true
   },
   "outputs": [],
   "source": [
    "X_train_move,X_test_move,y_train_move,y_test_move=train_test_split(X,y,test_size=0.8,random_state=2)"
   ]
  },
  {
   "cell_type": "code",
   "execution_count": 39,
   "metadata": {
    "collapsed": true
   },
   "outputs": [],
   "source": [
    "# 合并训练集数据\n",
    "X_train_Move_Mean=pd.concat([X_train_move,y_train_move],axis=1)"
   ]
  },
  {
   "cell_type": "code",
   "execution_count": 40,
   "metadata": {
    "collapsed": true
   },
   "outputs": [],
   "source": [
    "# 根据时间排序\n",
    "X_train_Move_Mean.sort_values(by=[\"Q\"],inplace=True)"
   ]
  },
  {
   "cell_type": "code",
   "execution_count": 41,
   "metadata": {
    "collapsed": true
   },
   "outputs": [],
   "source": [
    "X_train_Move_Mean_A=X_train_Move_Mean[X_train_Move_Mean[\"Season\"]==\"春\"]\n",
    "X_train_Move_Mean_B=X_train_Move_Mean[X_train_Move_Mean[\"Season\"]==\"夏\"]\n",
    "X_train_Move_Mean_C=X_train_Move_Mean[X_train_Move_Mean[\"Season\"]==\"秋\"]\n",
    "X_train_Move_Mean_D=X_train_Move_Mean[X_train_Move_Mean[\"Season\"]==\"冬\"]"
   ]
  },
  {
   "cell_type": "code",
   "execution_count": 42,
   "metadata": {
    "collapsed": true
   },
   "outputs": [],
   "source": [
    "# 合并测试集数据\n",
    "X_test_Move_Mean=pd.concat([X_test_move,y_test_move],axis=1)\n",
    "# 根据时间排序\n",
    "X_test_Move_Mean.sort_values(by=[\"Q\"],inplace=True)"
   ]
  },
  {
   "cell_type": "code",
   "execution_count": 44,
   "metadata": {
    "collapsed": false
   },
   "outputs": [],
   "source": [
    "X_test_Move_Mean_A=X_test_Move_Mean[X_test_Move_Mean[\"Season\"]==\"春\"]\n",
    "X_test_Move_Mean_B=X_test_Move_Mean[X_test_Move_Mean[\"Season\"]==\"夏\"]\n",
    "X_test_Move_Mean_C=X_test_Move_Mean[X_test_Move_Mean[\"Season\"]==\"秋\"]\n",
    "X_test_Move_Mean_D=X_test_Move_Mean[X_test_Move_Mean[\"Season\"]==\"冬\"]"
   ]
  },
  {
   "cell_type": "code",
   "execution_count": 45,
   "metadata": {
    "collapsed": true
   },
   "outputs": [],
   "source": [
    "# 获取满足一定记录的数据记录\n",
    "def get_recored(X_test,X_train):\n",
    "    temp=pd.DataFrame(columns=[\"A\",\"B\",\"Q\",\"Season\",\"R\"])\n",
    "    for user,item,time,season,rui in X_test.as_matrix():\n",
    "        if len(X_train[(X_train[\"A\"]==user) & (X_train[\"B\"]==item)])>=2:\n",
    "            #print(X_move_mean_train[(X_move_mean_train[\"供应商\"]==user) & (X_move_mean_train[\"订单款号\"]==item)])\n",
    "            t=X_train[(X_train[\"A\"]==user) & (X_train[\"B\"]==item)]\n",
    "            temp=pd.concat([temp,t],axis=0)\n",
    "    return temp\n",
    "    \n",
    "        \n",
    "        "
   ]
  },
  {
   "cell_type": "code",
   "execution_count": 46,
   "metadata": {
    "collapsed": false
   },
   "outputs": [],
   "source": [
    "# 测试集存在于训练集中的用户物品且满足一定记录的数据集\n",
    "temp_A=get_recored(X_test_Move_Mean_A,X_train_Move_Mean)\n",
    "temp_B=get_recored(X_test_Move_Mean_B,X_train_Move_Mean)\n",
    "temp_C=get_recored(X_test_Move_Mean_C,X_train_Move_Mean)\n",
    "temp_D=get_recored(X_test_Move_Mean_D,X_train_Move_Mean)"
   ]
  },
  {
   "cell_type": "code",
   "execution_count": 47,
   "metadata": {
    "collapsed": true
   },
   "outputs": [],
   "source": [
    "# 假设根据最近2个记录最为最新的时间预测\n",
    "def Move_Mean_Predict(X_test,X_train):\n",
    "    result_move_mean=[]\n",
    "    for user,item,time,season,rui in X_test.as_matrix():\n",
    "        if len(X_train[(X_train[\"A\"]==user)&(X_train[\"B\"]==item)])>=2:\n",
    "            value=X_train[(X_train[\"A\"]==user)&(X_train[\"B\"]==item)].sort_values(by=[\"Q\"])[-2:][\"R\"].mean()\n",
    "            result_move_mean.append([user,item,value,rui])\n",
    "    return result_move_mean"
   ]
  },
  {
   "cell_type": "code",
   "execution_count": 48,
   "metadata": {
    "collapsed": true
   },
   "outputs": [],
   "source": [
    "X_test_Move_Mean_A=Move_Mean_Predict(X_test_Move_Mean_A,temp_A)\n",
    "X_test_Move_Mean_B=Move_Mean_Predict(X_test_Move_Mean_B,temp_B)\n",
    "X_test_Move_Mean_C=Move_Mean_Predict(X_test_Move_Mean_C,temp_C)\n",
    "X_test_Move_Mean_D=Move_Mean_Predict(X_test_Move_Mean_D,temp_D)"
   ]
  },
  {
   "cell_type": "code",
   "execution_count": 49,
   "metadata": {
    "collapsed": true
   },
   "outputs": [],
   "source": [
    "X_test_Move_Mean_A=pd.DataFrame(X_test_Move_Mean_A)\n",
    "X_test_Move_Mean_A=X_test_Move_Mean_A.rename(columns={0: \"用户\",1: \"物品\",2: \"真实值\",3: \"平均预测值\"})\n",
    "\n",
    "X_test_Move_Mean_B=pd.DataFrame(X_test_Move_Mean_B)\n",
    "X_test_Move_Mean_B=X_test_Move_Mean_B.rename(columns={0: \"用户\",1: \"物品\",2: \"真实值\",3: \"平均预测值\"})\n",
    "\n",
    "X_test_Move_Mean_C=pd.DataFrame(X_test_Move_Mean_C)\n",
    "X_test_Move_Mean_C=X_test_Move_Mean_C.rename(columns={0: \"用户\",1: \"物品\",2: \"真实值\",3: \"平均预测值\"})\n",
    "\n",
    "X_test_Move_Mean_D=pd.DataFrame(X_test_Move_Mean_D)\n",
    "X_test_Move_Mean_D=X_test_Move_Mean_D.rename(columns={0: \"用户\",1: \"物品\",2: \"真实值\",3: \"平均预测值\"})"
   ]
  },
  {
   "cell_type": "code",
   "execution_count": 50,
   "metadata": {
    "collapsed": true
   },
   "outputs": [],
   "source": [
    "# rmse\n",
    "def RMSE(deviation):\n",
    "    sum=0.0\n",
    "    for i in deviation:\n",
    "        sum+=i*i\n",
    "    rmse=np.sqrt(sum/len(deviation))\n",
    "    return rmse"
   ]
  },
  {
   "cell_type": "code",
   "execution_count": 51,
   "metadata": {
    "collapsed": false
   },
   "outputs": [
    {
     "data": {
      "text/plain": [
       "64.93685479247395"
      ]
     },
     "execution_count": 51,
     "metadata": {},
     "output_type": "execute_result"
    }
   ],
   "source": [
    "RMSM_Mean(RMSE(X_test_Move_Mean_A[\"平均预测值\"]-X_test_Move_Mean_A[\"真实值\"]),RMSE(X_test_Move_Mean_B[\"平均预测值\"]-X_test_Move_Mean_B[\"真实值\"]),RMSE(X_test_Move_Mean_C[\"平均预测值\"]-X_test_Move_Mean_C[\"真实值\"]),RMSE(X_test_Move_Mean_D[\"平均预测值\"]-X_test_Move_Mean_D[\"真实值\"]))"
   ]
  },
  {
   "cell_type": "markdown",
   "metadata": {},
   "source": [
    "# 3 ES"
   ]
  },
  {
   "cell_type": "code",
   "execution_count": 52,
   "metadata": {
    "collapsed": true
   },
   "outputs": [],
   "source": [
    "X=df[[\"A\",\"B\",\"Q\",\"Season\"]]\n",
    "y=df[\"R\"]"
   ]
  },
  {
   "cell_type": "code",
   "execution_count": 53,
   "metadata": {
    "collapsed": true
   },
   "outputs": [],
   "source": [
    "X_train_index,X_test_index,y_train_index,y_test_index=train_test_split(X,y,test_size=0.8,random_state=2)"
   ]
  },
  {
   "cell_type": "code",
   "execution_count": 54,
   "metadata": {
    "collapsed": true
   },
   "outputs": [],
   "source": [
    "# 合并训练集数据\n",
    "X_train_Index_Smooth=pd.concat([X_train_index,y_train_index],axis=1)\n",
    "# 根据时间排序\n",
    "X_train_Index_Smooth.sort_values(by=[\"Q\"],inplace=True)"
   ]
  },
  {
   "cell_type": "code",
   "execution_count": 55,
   "metadata": {
    "collapsed": true
   },
   "outputs": [],
   "source": [
    "X_train_Index_Smooth_A=X_train_Index_Smooth[X_train_Index_Smooth[\"Season\"]==\"春\"]\n",
    "X_train_Index_Smooth_B=X_train_Index_Smooth[X_train_Index_Smooth[\"Season\"]==\"夏\"]\n",
    "X_train_Index_Smooth_C=X_train_Index_Smooth[X_train_Index_Smooth[\"Season\"]==\"秋\"]\n",
    "X_train_Index_Smooth_D=X_train_Index_Smooth[X_train_Index_Smooth[\"Season\"]==\"冬\"]"
   ]
  },
  {
   "cell_type": "code",
   "execution_count": 56,
   "metadata": {
    "collapsed": true
   },
   "outputs": [],
   "source": [
    "# 合并测试集数据\n",
    "X_test_Index_Smooth=pd.concat([X_test_index,y_test_index],axis=1)\n",
    "# 根据时间排序\n",
    "X_test_Index_Smooth.sort_values(by=[\"Q\"],inplace=True)"
   ]
  },
  {
   "cell_type": "code",
   "execution_count": 57,
   "metadata": {
    "collapsed": true
   },
   "outputs": [],
   "source": [
    "X_test_Index_Smooth_A=X_test_Index_Smooth[X_test_Index_Smooth[\"Season\"]==\"春\"]\n",
    "X_test_Index_Smooth_B=X_test_Index_Smooth[X_test_Index_Smooth[\"Season\"]==\"夏\"]\n",
    "X_test_Index_Smooth_C=X_test_Index_Smooth[X_test_Index_Smooth[\"Season\"]==\"秋\"]\n",
    "X_test_Index_Smooth_D=X_test_Index_Smooth[X_test_Index_Smooth[\"Season\"]==\"冬\"]"
   ]
  },
  {
   "cell_type": "code",
   "execution_count": 58,
   "metadata": {
    "collapsed": true
   },
   "outputs": [],
   "source": [
    "# 测试集存在于训练集中的用户物品且满足一定记录的数据集\n",
    "temp_Index_A=get_recored(X_test_Index_Smooth_A,X_train_Index_Smooth)\n",
    "temp_Index_B=get_recored(X_test_Index_Smooth_B,X_train_Index_Smooth)\n",
    "temp_Index_C=get_recored(X_test_Index_Smooth_C,X_train_Index_Smooth)\n",
    "temp_Index_D=get_recored(X_test_Index_Smooth_D,X_train_Index_Smooth)"
   ]
  },
  {
   "cell_type": "code",
   "execution_count": 59,
   "metadata": {
    "collapsed": true
   },
   "outputs": [],
   "source": [
    "# 假设根据最近2个记录最为最新的时间预测\n",
    "def Index_Smooth_Predict(X_test,X_train):\n",
    "    result_index_smooth=[]\n",
    "    for user,item,time,season,rui in X_test.as_matrix():\n",
    "        if len(X_train[(X_train[\"A\"]==user)&(X_train[\"B\"]==item)])>=2:\n",
    "            values=X_train[(X_train[\"A\"]==user)&(X_train[\"B\"]==item)].sort_values(by=[\"Q\"])[\"R\"].values\n",
    "            temp=values[0]  # 表示上一次预测的平滑值\n",
    "            temp_predict=0.0\n",
    "            for i in values:\n",
    "                temp_predict=0.5*i+(1-0.5)*temp\n",
    "                temp=temp_predict\n",
    "            result_index_smooth.append([user,item,rui,temp_predict])\n",
    "    return result_index_smooth"
   ]
  },
  {
   "cell_type": "code",
   "execution_count": 60,
   "metadata": {
    "collapsed": true
   },
   "outputs": [],
   "source": [
    "X_test_Index_Smooth_A=Index_Smooth_Predict(X_test_Index_Smooth_A,temp_Index_A)\n",
    "X_test_Index_Smooth_B=Index_Smooth_Predict(X_test_Index_Smooth_B,temp_Index_B)\n",
    "X_test_Index_Smooth_C=Index_Smooth_Predict(X_test_Index_Smooth_C,temp_Index_C)\n",
    "X_test_Index_Smooth_D=Index_Smooth_Predict(X_test_Index_Smooth_D,temp_Index_D)"
   ]
  },
  {
   "cell_type": "code",
   "execution_count": 61,
   "metadata": {
    "collapsed": true
   },
   "outputs": [],
   "source": [
    "X_test_Index_Smooth_A=pd.DataFrame(X_test_Index_Smooth_A)\n",
    "X_test_Index_Smooth_A=X_test_Index_Smooth_A.rename(columns={0: \"用户\",1: \"物品\",2: \"真实值\",3: \"平均预测值\"})\n",
    "\n",
    "X_test_Index_Smooth_B=pd.DataFrame(X_test_Index_Smooth_B)\n",
    "X_test_Index_Smooth_B=X_test_Index_Smooth_B.rename(columns={0: \"用户\",1: \"物品\",2: \"真实值\",3: \"平均预测值\"})\n",
    "\n",
    "X_test_Index_Smooth_C=pd.DataFrame(X_test_Index_Smooth_C)\n",
    "X_test_Index_Smooth_C=X_test_Index_Smooth_C.rename(columns={0: \"用户\",1: \"物品\",2: \"真实值\",3: \"平均预测值\"})\n",
    "\n",
    "X_test_Index_Smooth_D=pd.DataFrame(X_test_Index_Smooth_D)\n",
    "X_test_Index_Smooth_D=X_test_Index_Smooth_D.rename(columns={0: \"用户\",1: \"物品\",2: \"真实值\",3: \"平均预测值\"})"
   ]
  },
  {
   "cell_type": "code",
   "execution_count": 62,
   "metadata": {
    "collapsed": false
   },
   "outputs": [
    {
     "data": {
      "text/plain": [
       "54.223997556034256"
      ]
     },
     "execution_count": 62,
     "metadata": {},
     "output_type": "execute_result"
    }
   ],
   "source": [
    "RMSM_Mean(RMSE(X_test_Index_Smooth_A[\"平均预测值\"]-X_test_Index_Smooth_A[\"真实值\"]),RMSE(X_test_Index_Smooth_B[\"平均预测值\"]-X_test_Index_Smooth_B[\"真实值\"]),RMSE(X_test_Index_Smooth_C[\"平均预测值\"]-X_test_Index_Smooth_C[\"真实值\"]),RMSE(X_test_Index_Smooth_D[\"平均预测值\"]-X_test_Index_Smooth_D[\"真实值\"]))"
   ]
  },
  {
   "cell_type": "markdown",
   "metadata": {},
   "source": [
    "# 4 KNN法"
   ]
  },
  {
   "cell_type": "code",
   "execution_count": 73,
   "metadata": {
    "collapsed": false
   },
   "outputs": [],
   "source": [
    "X=df[['A', 'B', 'D', 'E','F', 'G', 'H','K', 'L', 'M', 'N', 'Q',\"S\",\"Season\"]]\n",
    "y=df[[\"R\"]]"
   ]
  },
  {
   "cell_type": "code",
   "execution_count": 74,
   "metadata": {
    "collapsed": true
   },
   "outputs": [],
   "source": [
    "X_train_knn,X_test_knn,y_train_knn,y_test_knn=train_test_split(X,y,test_size=0.8,random_state=2)"
   ]
  },
  {
   "cell_type": "code",
   "execution_count": 75,
   "metadata": {
    "collapsed": false
   },
   "outputs": [],
   "source": [
    "X_train_knn=X_train_knn[['D','E','F','G','H','K' ,'L','M', 'N']]"
   ]
  },
  {
   "cell_type": "code",
   "execution_count": 76,
   "metadata": {
    "collapsed": true
   },
   "outputs": [],
   "source": [
    "# 使用KNN进行回归\n",
    "from sklearn import neighbors\n",
    "knn = neighbors.KNeighborsRegressor(5, weights=\"uniform\")"
   ]
  },
  {
   "cell_type": "code",
   "execution_count": 77,
   "metadata": {
    "collapsed": false
   },
   "outputs": [
    {
     "data": {
      "text/plain": [
       "KNeighborsRegressor(algorithm='auto', leaf_size=30, metric='minkowski',\n",
       "          metric_params=None, n_jobs=1, n_neighbors=5, p=2,\n",
       "          weights='uniform')"
      ]
     },
     "execution_count": 77,
     "metadata": {},
     "output_type": "execute_result"
    }
   ],
   "source": [
    "knn.fit(X_train_knn, y_train_knn)"
   ]
  },
  {
   "cell_type": "code",
   "execution_count": 78,
   "metadata": {
    "collapsed": true
   },
   "outputs": [],
   "source": [
    "X_test_knn_knn=X_test_knn[['D','E','F','G','H','K' ,'L','M', 'N']]"
   ]
  },
  {
   "cell_type": "code",
   "execution_count": 79,
   "metadata": {
    "collapsed": true
   },
   "outputs": [],
   "source": [
    "# 使用测试集进行预测\n",
    "y_test_knn_predict=knn.predict(X_test_knn_knn)"
   ]
  },
  {
   "cell_type": "code",
   "execution_count": 80,
   "metadata": {
    "collapsed": true
   },
   "outputs": [],
   "source": [
    "y_test_knn_copy=y_test_knn.copy()"
   ]
  },
  {
   "cell_type": "code",
   "execution_count": 81,
   "metadata": {
    "collapsed": true
   },
   "outputs": [],
   "source": [
    "y_test_knn_copy[\"预测值\"]=y_test_knn_predict"
   ]
  },
  {
   "cell_type": "code",
   "execution_count": 82,
   "metadata": {
    "collapsed": true
   },
   "outputs": [],
   "source": [
    "y_test_knn_copy[\"Season\"]=X_test_knn[\"Season\"]"
   ]
  },
  {
   "cell_type": "code",
   "execution_count": 83,
   "metadata": {
    "collapsed": true
   },
   "outputs": [],
   "source": [
    "X_test_KNN_A=y_test_knn_copy[y_test_knn_copy[\"Season\"]==\"春\"]\n",
    "X_test_KNN_B=y_test_knn_copy[y_test_knn_copy[\"Season\"]==\"夏\"]\n",
    "X_test_KNN_C=y_test_knn_copy[y_test_knn_copy[\"Season\"]==\"秋\"]\n",
    "X_test_KNN_D=y_test_knn_copy[y_test_knn_copy[\"Season\"]==\"冬\"]"
   ]
  },
  {
   "cell_type": "code",
   "execution_count": 84,
   "metadata": {
    "collapsed": false
   },
   "outputs": [
    {
     "data": {
      "text/plain": [
       "31.612825827374017"
      ]
     },
     "execution_count": 84,
     "metadata": {},
     "output_type": "execute_result"
    }
   ],
   "source": [
    "RMSM_Mean(RMSE(X_test_KNN_A[\"预测值\"]-X_test_KNN_A[\"R\"]),RMSE(X_test_KNN_B[\"预测值\"]-X_test_KNN_B[\"R\"]),RMSE(X_test_KNN_C[\"预测值\"]-X_test_KNN_C[\"R\"]),RMSE(X_test_KNN_D[\"预测值\"]-X_test_KNN_D[\"R\"]))"
   ]
  },
  {
   "cell_type": "code",
   "execution_count": null,
   "metadata": {
    "collapsed": true
   },
   "outputs": [],
   "source": []
  }
 ],
 "metadata": {
  "kernelspec": {
   "display_name": "Python 3",
   "language": "python",
   "name": "python3"
  },
  "language_info": {
   "codemirror_mode": {
    "name": "ipython",
    "version": 3
   },
   "file_extension": ".py",
   "mimetype": "text/x-python",
   "name": "python",
   "nbconvert_exporter": "python",
   "pygments_lexer": "ipython3",
   "version": "3.5.4"
  }
 },
 "nbformat": 4,
 "nbformat_minor": 0
}
